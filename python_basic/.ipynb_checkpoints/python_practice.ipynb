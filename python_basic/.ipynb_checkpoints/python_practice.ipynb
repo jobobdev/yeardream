{
 "cells": [
  {
   "cell_type": "code",
   "execution_count": 1,
   "metadata": {},
   "outputs": [],
   "source": [
    "data = {\n",
    "    \"철수\": 98,\n",
    "    \"영희\": 80,\n",
    "    \"순이\": 100,\n",
    "    \"돌이\": 70,\n",
    "}"
   ]
  },
  {
   "cell_type": "code",
   "execution_count": 20,
   "metadata": {},
   "outputs": [
    {
     "name": "stdout",
     "output_type": "stream",
     "text": [
      "철수         98\n",
      "영희         80\n",
      "순이        100\n",
      "돌이         70\n",
      "=============\n",
      "평균         87\n"
     ]
    }
   ],
   "source": [
    "for k, v in data.items():\n",
    "    print(\"%s %10d\" %(k, v))\n",
    "print(\"=============\")\n",
    "print(\"평균 %10d\" %(sum(data.values())/len(data)))"
   ]
  },
  {
   "cell_type": "code",
   "execution_count": 21,
   "metadata": {},
   "outputs": [
    {
     "name": "stdout",
     "output_type": "stream",
     "text": [
      "100.0\n"
     ]
    }
   ],
   "source": [
    "# 삼각형의 넓이를 계산하기 위한 클래스를 만든다. 이 클래스는 다음과 같은 속성을 가진다.\n",
    "#     밑변의 길이 b 와 높이 h\n",
    "#     삼각형의 넓이를 계산하는 메서드 area\n",
    "class Triangle(object):\n",
    "    \n",
    "    def __init__(self, b, h):\n",
    "        self.b = b\n",
    "        self.h = h\n",
    "    \n",
    "    def area(self):\n",
    "        return self.b*self.h/2\n",
    "    \n",
    "t = Triangle(20, 10)\n",
    "a = t.area()\n",
    "print(a)\n"
   ]
  },
  {
   "cell_type": "code",
   "execution_count": 22,
   "metadata": {},
   "outputs": [
    {
     "name": "stdout",
     "output_type": "stream",
     "text": [
      "6000\n"
     ]
    }
   ],
   "source": [
    "# 사각 기둥의 부피를 계산하기 위한 클래스를 만든다. 이 클래스는 다음과 같은 속성을 가진다.\n",
    "#     밑면의 가로 길이 a, 밑면의 세로 길이 b, 높이 h\n",
    "#     부피를 계산하는 메서드 volume\n",
    "#     겉넓이를 계산하는 메서드 surface\n",
    "\n",
    "class Poll(object):\n",
    "    \n",
    "    def __init__(self, a, b, h):\n",
    "        self.a = a\n",
    "        self.b = b\n",
    "        self.h = h\n",
    "    \n",
    "    def volume(self):\n",
    "        return self.a*self.b*self.h\n",
    "\n",
    "p = Poll(10,20,30)\n",
    "a = p.volume()\n",
    "print(a)"
   ]
  },
  {
   "cell_type": "code",
   "execution_count": 28,
   "metadata": {},
   "outputs": [],
   "source": [
    "# 게임 캐릭터 코드에서 attacked 메서드도 오버라이딩을 하여 전사와 마법사가 공격을 받을 때 life 속성값이 다르게 감소하도록 한다.\n",
    "class Character(object):\n",
    "    \n",
    "    def __init__(self):\n",
    "        self.life = 1000\n",
    "        self.strength = 10\n",
    "        self.intelligence = 10\n",
    "        \n",
    "    def attacked(self):\n",
    "        self.life -= 10\n",
    "        print(\"Attacked! Life = \", self.life)\n",
    "        \n",
    "    def attack(self):\n",
    "        print(\"Attack!!\")\n",
    "        \n",
    "class Wizard(Character):\n",
    "    def __init__(self):\n",
    "        super(Wizard, self).__init__()\n",
    "        self.strength = 5\n",
    "        self.intelligence = 15\n",
    "        \n",
    "    def attacked(self):\n",
    "        self.life -= 15\n",
    "        print(\"Attacked! Life = \", self.life)\n",
    "        \n",
    "    def attack(self):\n",
    "        print(\"Magic Attack!\")\n",
    "        \n",
    "class Warrior(Character):\n",
    "    def __init__(self):\n",
    "        super(Warrior, self).__init__()\n",
    "        self.strength = 15\n",
    "        self.intelligence = 5\n",
    "        \n",
    "    def attacked(self):\n",
    "        self.life -= 5\n",
    "        print(\"Attacked! Life = \", self.life)\n",
    "    \n",
    "    def attack(self):\n",
    "        print(\"Attack with my Sword!\")\n",
    "        \n"
   ]
  },
  {
   "cell_type": "code",
   "execution_count": 29,
   "metadata": {},
   "outputs": [
    {
     "name": "stdout",
     "output_type": "stream",
     "text": [
      "Attacked! Life =  990\n"
     ]
    }
   ],
   "source": [
    "a = Character()\n",
    "b = Wizard()\n",
    "c = Warrior()\n",
    "\n",
    "a.attacked()"
   ]
  },
  {
   "cell_type": "code",
   "execution_count": 30,
   "metadata": {},
   "outputs": [
    {
     "name": "stdout",
     "output_type": "stream",
     "text": [
      "Attacked! Life =  985\n"
     ]
    }
   ],
   "source": [
    "b.attacked()"
   ]
  },
  {
   "cell_type": "code",
   "execution_count": 31,
   "metadata": {},
   "outputs": [
    {
     "name": "stdout",
     "output_type": "stream",
     "text": [
      "Attacked! Life =  995\n"
     ]
    }
   ],
   "source": [
    "c.attacked()"
   ]
  },
  {
   "cell_type": "code",
   "execution_count": 42,
   "metadata": {},
   "outputs": [
    {
     "name": "stdout",
     "output_type": "stream",
     "text": [
      "160 0\n",
      "None\n",
      "20\n",
      "None\n",
      "0\n"
     ]
    }
   ],
   "source": [
    "# 다음과 같이 자동차를 나타내는 Car 클래스를 구현한다.\n",
    "#     이 클래스는 최고 속도를 의미하는 max_speed라는 속성과 현재 속도를 나타내는 speed라는 속성을 가진다.\n",
    "#     객체 생성시 max_speed 속성은 160이 되고 speed 속성은 0이 된다.\n",
    "#     speed_up, speed_down이라는 메서드를 가진다. speed_up을 호출하면 speed 속성이 20씩 증가하고 speed_down을 호출하면 speed 속성이 20씩 감소한다.\n",
    "#     스피드 속성 speed의 값은 max_speed 속성 값, 즉 160을 넘을 수 없다. 또 0 미만으로 감소할 수도 없다.\n",
    "#     메서드는 호출시 속도 정보를 출력하고 명시적인 반환값을 가지지 않는다.\n",
    "#     위 기능이 모두 정상적으로 구현되었음을 보이는 코드를 추가한다.\n",
    "\n",
    "class Car(object):\n",
    "    \n",
    "    def __init__(self):\n",
    "        self.max_speed = 160\n",
    "        self.speed = 0\n",
    "        \n",
    "    def speed_up(self):\n",
    "        if self.speed+20 <= self.max_speed:\n",
    "            self.speed += 20\n",
    "        elif self.speed+20 >self.max_speed:\n",
    "            self.speed = 160\n",
    "        \n",
    "    \n",
    "    def speed_down(self):\n",
    "        if self.speed-20 >= 0:\n",
    "            self.speed -= 20\n",
    "        elif self.speed-20 <0:\n",
    "            self.speed = 0\n",
    "\n",
    "c = Car()\n",
    "print(c.max_speed, c.speed,)\n",
    "print(c.speed_up())\n",
    "print(c.speed)\n",
    "print(c.speed_down())\n",
    "print(c.speed)\n"
   ]
  },
  {
   "cell_type": "code",
   "execution_count": 51,
   "metadata": {},
   "outputs": [],
   "source": [
    "class SportsCar(Car):\n",
    "    \n",
    "    def __init__(self):\n",
    "        super(SportsCar, self).__init__()\n",
    "        self.max_speed = 200\n",
    "        self.speed = 0\n",
    "        \n",
    "    def speed_up(self):\n",
    "        if self.speed+45 <= self.max_speed:\n",
    "            self.speed += 45\n",
    "        elif self.speed+45 >self.max_speed:\n",
    "            self.speed = 160\n",
    "        \n",
    "    \n",
    "    def speed_down(self):\n",
    "        if self.speed-45 >= 0:\n",
    "            self.speed -= 45\n",
    "        elif self.speed-45 <0:\n",
    "            self.speed = 0\n",
    "\n",
    "class Truck(Car):\n",
    "    \n",
    "    def __init__(self):\n",
    "        super(Truck, self).__init__()\n",
    "        self.max_speed = 160\n",
    "        self.speed = 0\n",
    "        \n",
    "    def speed_up(self):\n",
    "        if self.speed+15 <= self.max_speed:\n",
    "            self.speed += 15\n",
    "        elif self.speed+15 >self.max_speed:\n",
    "            self.speed = 160\n",
    "        \n",
    "    \n",
    "    def speed_down(self):\n",
    "        if self.speed-15 >= 0:\n",
    "            self.speed -= 15\n",
    "        elif self.speed-15 <0:\n",
    "            self.speed = 0\n"
   ]
  },
  {
   "cell_type": "code",
   "execution_count": 70,
   "metadata": {},
   "outputs": [
    {
     "name": "stdout",
     "output_type": "stream",
     "text": [
      "85.0\n",
      "Sam \n",
      "Sam \n",
      "75 95\n"
     ]
    }
   ],
   "source": [
    "class Student(object):\n",
    "    def __init__(self, num, name, math, english):\n",
    "        self.num = num\n",
    "        self.name = name\n",
    "        self.math = math\n",
    "        self.english = english\n",
    "    \n",
    "    def avg(self):\n",
    "        return (self.math + self.english)/2\n",
    "    \n",
    "    def __repr__(self):\n",
    "        return \"Name = %s, Num = %s\" % (self.name, self.num)\n",
    "    \n",
    "    def __str__(self):\n",
    "        return \"%s \" % self.name \n",
    "    \n",
    "    def __getitem__(self, key):\n",
    "        if key == \"math\":\n",
    "            return self.math\n",
    "        if key == \"english\":\n",
    "            return self.english\n",
    "\n",
    "\n",
    "s = Student(\"2014\", 'Sam', 75, 95)\n",
    "print(s.avg())\n",
    "print(s)\n",
    "\n",
    "print(str(s))\n",
    "\n",
    "print(s['math'], s['english'])"
   ]
  },
  {
   "cell_type": "code",
   "execution_count": 74,
   "metadata": {},
   "outputs": [
    {
     "name": "stdout",
     "output_type": "stream",
     "text": [
      "You are broke\n"
     ]
    }
   ],
   "source": [
    "# 클래스의 비공개 속성 접근하기\n",
    "# 비공개 속성은 클래스 안에서만 접근 가능하다\n",
    "# 그리고 .__속성 형태로 짓는다.\n",
    "\n",
    "class Person:\n",
    "    def __init__(self, name, age, address, wallet):\n",
    "        self.name = name\n",
    "        self.age = age\n",
    "        self.address = address\n",
    "        self.__wallet = wallet\n",
    "    \n",
    "    def pay(self, amount):\n",
    "        if amount > self.__wallet:\n",
    "            print('You are broke')\n",
    "            return\n",
    "        self.__wallet -= amount\n",
    "        \n",
    "        \n",
    "        \n",
    "sam = Person('Sam', 29, 'Seoul', 10000)\n",
    "sam.pay(3000)\n",
    "sam.pay(3000)\n",
    "sam.pay(3000)\n",
    "sam.pay(3000)"
   ]
  },
  {
   "cell_type": "code",
   "execution_count": 75,
   "metadata": {},
   "outputs": [
    {
     "name": "stdout",
     "output_type": "stream",
     "text": [
      "542.4 210.3 38\n",
      "베기\n"
     ]
    }
   ],
   "source": [
    "class Knight:\n",
    "    \n",
    "    def __init__(self, health, mana, armor):\n",
    "        self.health = health\n",
    "        self.mana = mana\n",
    "        self.armor = armor\n",
    "        \n",
    "    def slash(self):\n",
    "        print('베기')\n",
    "\n",
    "x = Knight(health=542.4, mana=210.3, armor=38)\n",
    "print(x.health, x.mana, x.armor)\n",
    "x.slash()"
   ]
  },
  {
   "cell_type": "code",
   "execution_count": 79,
   "metadata": {},
   "outputs": [
    {
     "name": "stdout",
     "output_type": "stream",
     "text": [
      "티버: 피해량 819.25\n"
     ]
    }
   ],
   "source": [
    "class Annie:\n",
    "    def __init__(self, health, mana, ability_power):\n",
    "        self.health = health\n",
    "        self.mana = mana\n",
    "        self.ability_power = ability_power\n",
    "    \n",
    "    def tibbers(self):\n",
    "        print('티버: 피해량 {0:0.2f}'.format(self.ability_power * 0.65 + 400))\n",
    "\n",
    "health, mana, ability_power = map(float, input().split())\n",
    " \n",
    "x = Annie(health=health, mana=mana, ability_power=ability_power)\n",
    "x.tibbers()"
   ]
  },
  {
   "cell_type": "code",
   "execution_count": null,
   "metadata": {},
   "outputs": [],
   "source": []
  }
 ],
 "metadata": {
  "interpreter": {
   "hash": "aee8b7b246df8f9039afb4144a1f6fd8d2ca17a180786b69acc140d282b71a49"
  },
  "kernelspec": {
   "display_name": "Python 3.10.4 64-bit",
   "language": "python",
   "name": "python3"
  },
  "language_info": {
   "codemirror_mode": {
    "name": "ipython",
    "version": 3
   },
   "file_extension": ".py",
   "mimetype": "text/x-python",
   "name": "python",
   "nbconvert_exporter": "python",
   "pygments_lexer": "ipython3",
   "version": "3.10.4"
  },
  "orig_nbformat": 4
 },
 "nbformat": 4,
 "nbformat_minor": 2
}
